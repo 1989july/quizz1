{
 "cells": [
  {
   "cell_type": "code",
   "execution_count": 3,
   "id": "d1ea1c1e-0ba9-4a66-9255-b1012e7a7b04",
   "metadata": {},
   "outputs": [
    {
     "name": "stdout",
     "output_type": "stream",
     "text": [
      "Welcome to our quizz!\n",
      "\n",
      "You have 3 lives.\n"
     ]
    },
    {
     "name": "stdin",
     "output_type": "stream",
     "text": [
      "What planet of Solar system is proven to have liquid water? Earth\n"
     ]
    },
    {
     "name": "stdout",
     "output_type": "stream",
     "text": [
      "Good job! This is the right answer\n"
     ]
    },
    {
     "name": "stdin",
     "output_type": "stream",
     "text": [
      "What was the name of the first man in space? Armstrong\n"
     ]
    },
    {
     "name": "stdout",
     "output_type": "stream",
     "text": [
      "Too bad! that is not the correct answer\n",
      "You have 2 lives\n"
     ]
    },
    {
     "name": "stdin",
     "output_type": "stream",
     "text": [
      "What was the name an IDE that is the same as the name of a snake? Anaconda\n"
     ]
    },
    {
     "name": "stdout",
     "output_type": "stream",
     "text": [
      "Good job! This is the right answer\n",
      "You have 2 lives left. Bravo! You have won\n"
     ]
    }
   ],
   "source": [
    "#Quizz\n",
    "print(\"Welcome to our quizz!\")\n",
    "print()\n",
    "print(\"You have 3 lives.\")\n",
    "\n",
    "number_of_lives = 3\n",
    "#Question 1:\n",
    "\n",
    "if number_of_lives > 0:\n",
    "# Question 1:    \n",
    "    correct_answer1 = \"Earth\"\n",
    "    user_answer1 = input(\"What planet of Solar system is proven to have liquid water?\")\n",
    "    if user_answer1 != correct_answer1:\n",
    "        print(\"Too bad! that is not the correct answer\")\n",
    "        number_of_lives = number_of_lives - 1\n",
    "        print(f\"You have {number_of_lives} lives\")\n",
    "    else:\n",
    "        print(\"Good job! This is the right answer\")\n",
    "        \n",
    "if number_of_lives > 0:\n",
    "# Question 2:\n",
    "    correct_answer2 = \"Yuri Gagarin\"\n",
    "    user_answer2 = input(\"What was the name of the first man in space?\")\n",
    "    if user_answer2 != correct_answer2:\n",
    "        print(\"Too bad! that is not the correct answer\")\n",
    "        number_of_lives = number_of_lives - 1\n",
    "        print(f\"You have {number_of_lives} lives\")\n",
    "    else:\n",
    "        print(\"Good job! This is the right answer\")\n",
    "        \n",
    "if number_of_lives > 0:       \n",
    "# Question 3\n",
    "    correct_answer3 = \"Anaconda\"\n",
    "    user_answer3 = input(\"What was the name an IDE that is the same as the name of a snake?\")\n",
    "    if user_answer3 != correct_answer3:\n",
    "        print(\"Too bad! that is not the correct answer\")\n",
    "        number_of_lives = number_of_lives - 1\n",
    "        print(f\"You have {number_of_lives} lives\")\n",
    "    else:\n",
    "        print(\"Good job! This is the right answer\")\n",
    "\n",
    "if number_of_lives == 0:\n",
    "    print(\"GAME OVER\")\n",
    "else:\n",
    "    print(f\"You have {number_of_lives} lives left. Bravo! You have won\")\n",
    "    \n"
   ]
  },
  {
   "cell_type": "code",
   "execution_count": null,
   "id": "672a50e1-2092-4e49-b223-f7721b56f31a",
   "metadata": {},
   "outputs": [],
   "source": [
    "# DEFINITION DE FONCTIONS\n",
    "def question(question_number):\n",
    "    correct_answer = \"correct_answer\"\n",
    "    user_answer = input(\"question\")\n",
    "    if user_answer != correct_answer:\n",
    "        print(\"Too bad! that is not the correct answer\")\n",
    "        number_of_lives = number_of_lives - 1\n",
    "        print(f\"You have {number_of_lives} lives\")\n",
    "    else:\n",
    "        print(\"Good job! This is the right answer\")\n",
    "        \n",
    "        \n",
    "dic_quizz = {\n",
    "    \"What planet of Solar system is proven to have liquid water?\": \"Earth\",\n",
    "    \"What was the name of the first man in space?\": \"Yuri Gagarin\",\n",
    "       }\n",
    "\n",
    "# MAIN PROGRAM\n",
    "\n",
    "#Quizz\n",
    "print(\"Welcome to our quizz!\")\n",
    "print()\n",
    "print(\"You have 3 lives.\")\n",
    "\n",
    "number_of_lives = 3\n",
    "#Question 1:\n",
    "\n",
    "if number_of_lives > 0:\n",
    "# Question 1:    \n",
    "    correct_answer1 = \"Earth\"\n",
    "    user_answer1 = input(\"What planet of Solar system is proven to have liquid water?\")\n",
    "    if user_answer1 != correct_answer1:\n",
    "        print(\"Too bad! that is not the correct answer\")\n",
    "        number_of_lives = number_of_lives - 1\n",
    "        print(f\"You have {number_of_lives} lives\")\n",
    "    else:\n",
    "        print(\"Good job! This is the right answer\")\n",
    "        \n",
    "if number_of_lives > 0:\n",
    "# Question 2:\n",
    "    correct_answer2 = \"Yuri Gagarin\"\n",
    "    user_answer2 = input(\"What was the name of the first man in space?\")\n",
    "    if user_answer2 != correct_answer2:\n",
    "        print(\"Too bad! that is not the correct answer\")\n",
    "        number_of_lives = number_of_lives - 1\n",
    "        print(f\"You have {number_of_lives} lives\")\n",
    "    else:\n",
    "        print(\"Good job! This is the right answer\")\n",
    "        \n",
    "if number_of_lives > 0:       \n",
    "# Question 3\n",
    "    correct_answer3 = \"Anaconda\"\n",
    "    user_answer3 = input(\"What is the name an IDE that is the same as the name of a snake?\")\n",
    "    if user_answer3 != correct_answer3:\n",
    "        print(\"Too bad! that is not the correct answer\")\n",
    "        number_of_lives = number_of_lives - 1\n",
    "        print(f\"You have {number_of_lives} lives\")\n",
    "    else:\n",
    "        print(\"Good job! This is the right answer\")\n",
    "\n",
    "if number_of_lives == 0:\n",
    "    print(\"GAME OVER\")\n",
    "else:\n",
    "    print(f\"You have {number_of_lives} lives left. Bravo! You have won\")"
   ]
  },
  {
   "cell_type": "code",
   "execution_count": 6,
   "id": "d9439a25-6c86-46d6-8002-56febd3369bf",
   "metadata": {},
   "outputs": [
    {
     "name": "stdout",
     "output_type": "stream",
     "text": [
      "Question 1\n",
      "Question 2\n",
      "Question 3\n",
      "Question 4\n"
     ]
    }
   ],
   "source": [
    "def question(i):\n",
    "    print(f\"Question {i + 1}\")\n",
    "\n",
    "    \n",
    "\n",
    "dic_quizz = {\n",
    "    \"What planet of Solar system is proven to have liquid water?\": \"Earth\",\n",
    "    \"What was the name of the first man in space?\": \"Yuri Gagarin\",\n",
    "       }\n",
    "\n",
    "number_of_questions = 4\n",
    "for i in range(number_of_questions):\n",
    "    question(i)\n",
    "    "
   ]
  },
  {
   "cell_type": "code",
   "execution_count": 8,
   "id": "1f755176-d980-44d2-a25b-1e1700995d17",
   "metadata": {},
   "outputs": [
    {
     "name": "stdout",
     "output_type": "stream",
     "text": [
      "{'What planet of Solar system is proven to have liquid water?': 'Earth', 'What was the name of the first man in space?': 'Yuri Gagarin', 'What is the name an IDE that is the same as the name of a snake?': 'Anaconda'}\n"
     ]
    }
   ],
   "source": [
    "dic_quizz = {\n",
    "    \"What planet of Solar system is proven to have liquid water?\": \"Earth\",\n",
    "    \"What was the name of the first man in space?\": \"Yuri Gagarin\",\n",
    "    \"What is the name an IDE that is the same as the name of a snake?\": \"Anaconda\"\n",
    "       }\n",
    "\n",
    "print(dic_quizz)"
   ]
  },
  {
   "cell_type": "code",
   "execution_count": 9,
   "id": "d50de183-ae28-4d6e-bcf9-b3308390ec3f",
   "metadata": {},
   "outputs": [
    {
     "name": "stdout",
     "output_type": "stream",
     "text": [
      "{'question': ['What planet of Solar system is proven to have liquid water?', 'What was the name of the first man in space?', 'What is the name an IDE that is the same as the name of a snake?'], 'answer': ['Earth', 'Yuri Gagarin', 'Anaconda']}\n"
     ]
    }
   ],
   "source": [
    "dic_quizz = {\n",
    "    \"question\" : [\"What planet of Solar system is proven to have liquid water?\", \"What was the name of the first man in space?\", \n",
    "    \"What is the name an IDE that is the same as the name of a snake?\"],\n",
    "    \"answer\" : [\"Earth\", \"Yuri Gagarin\", \"Anaconda\"]\n",
    "       }\n",
    "print(dic_quizz)"
   ]
  },
  {
   "cell_type": "code",
   "execution_count": null,
   "id": "e1e3b0a5-2e37-4f3b-856e-98e8b32d0617",
   "metadata": {},
   "outputs": [],
   "source": []
  }
 ],
 "metadata": {
  "kernelspec": {
   "display_name": "Python 3 (ipykernel)",
   "language": "python",
   "name": "python3"
  },
  "language_info": {
   "codemirror_mode": {
    "name": "ipython",
    "version": 3
   },
   "file_extension": ".py",
   "mimetype": "text/x-python",
   "name": "python",
   "nbconvert_exporter": "python",
   "pygments_lexer": "ipython3",
   "version": "3.9.7"
  }
 },
 "nbformat": 4,
 "nbformat_minor": 5
}
